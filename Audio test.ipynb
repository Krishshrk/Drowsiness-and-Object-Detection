{
 "cells": [
  {
   "cell_type": "code",
   "execution_count": 2,
   "id": "21607b3d",
   "metadata": {},
   "outputs": [],
   "source": [
    "from gtts import gTTS\n",
    "#obj=gTTS(text=\"Hello I am a speech bot for nidhi, who is an neet aspirant and study as lot but she will not get neet because she is not smart like her brother shrikrish\",lang=\"en\",slow=False)\n",
    "#obj.save(\"speech_4.mp3\")"
   ]
  },
  {
   "cell_type": "code",
   "execution_count": 29,
   "id": "a525c4f2",
   "metadata": {},
   "outputs": [],
   "source": [
    "text_3=\"I am also an speech bot for Aadhu who is an small boy with bad mouth who will not study and speaks bad language, he has an sister who will also not study but have the funny dream of becoming scientist\""
   ]
  },
  {
   "cell_type": "code",
   "execution_count": 30,
   "id": "5f4e3dc0",
   "metadata": {},
   "outputs": [],
   "source": [
    "text_1=\"Hello I am a speech bot for nidhi, who is an neet aspirant and study as lot but she will not get neet because she is not smart like her brother shrikrish\""
   ]
  },
  {
   "cell_type": "code",
   "execution_count": 4,
   "id": "723c7587",
   "metadata": {},
   "outputs": [],
   "source": [
    "text=\"nidhi is kudhi kudhi suthu baadu punda otha oomala thevidiya otha  sanisevara munda\""
   ]
  },
  {
   "cell_type": "code",
   "execution_count": 7,
   "id": "bfb5f18c",
   "metadata": {},
   "outputs": [],
   "source": [
    "obj=gTTS(text=text,lang=\"en\")\n",
    "obj.save(\"speech.mp3\")"
   ]
  },
  {
   "cell_type": "code",
   "execution_count": 33,
   "id": "9c7a51eb",
   "metadata": {},
   "outputs": [],
   "source": [
    "text=text_1 + \" \" + text_2 + \" \" + text_3"
   ]
  },
  {
   "cell_type": "code",
   "execution_count": 21,
   "id": "74bb5b92",
   "metadata": {},
   "outputs": [],
   "source": [
    "text=\"shikrish is a boy who is very dumb and wants to make fun of others but gets nosecut and he has a sister called bali and looks like one\""
   ]
  },
  {
   "cell_type": "code",
   "execution_count": 5,
   "id": "1f972cd3",
   "metadata": {},
   "outputs": [],
   "source": [
    "for i in range(5):\n",
    "    text=text+\" \"  +text"
   ]
  },
  {
   "cell_type": "code",
   "execution_count": 6,
   "id": "583220c9",
   "metadata": {},
   "outputs": [
    {
     "data": {
      "text/plain": [
       "'nidhi is kudhi kudhi suthu baadu punda otha oomala thevidiya otha  sanisevara munda nidhi is kudhi kudhi suthu baadu punda otha oomala thevidiya otha  sanisevara munda nidhi is kudhi kudhi suthu baadu punda otha oomala thevidiya otha  sanisevara munda nidhi is kudhi kudhi suthu baadu punda otha oomala thevidiya otha  sanisevara munda nidhi is kudhi kudhi suthu baadu punda otha oomala thevidiya otha  sanisevara munda nidhi is kudhi kudhi suthu baadu punda otha oomala thevidiya otha  sanisevara munda nidhi is kudhi kudhi suthu baadu punda otha oomala thevidiya otha  sanisevara munda nidhi is kudhi kudhi suthu baadu punda otha oomala thevidiya otha  sanisevara munda nidhi is kudhi kudhi suthu baadu punda otha oomala thevidiya otha  sanisevara munda nidhi is kudhi kudhi suthu baadu punda otha oomala thevidiya otha  sanisevara munda nidhi is kudhi kudhi suthu baadu punda otha oomala thevidiya otha  sanisevara munda nidhi is kudhi kudhi suthu baadu punda otha oomala thevidiya otha  sanisevara munda nidhi is kudhi kudhi suthu baadu punda otha oomala thevidiya otha  sanisevara munda nidhi is kudhi kudhi suthu baadu punda otha oomala thevidiya otha  sanisevara munda nidhi is kudhi kudhi suthu baadu punda otha oomala thevidiya otha  sanisevara munda nidhi is kudhi kudhi suthu baadu punda otha oomala thevidiya otha  sanisevara munda nidhi is kudhi kudhi suthu baadu punda otha oomala thevidiya otha  sanisevara munda nidhi is kudhi kudhi suthu baadu punda otha oomala thevidiya otha  sanisevara munda nidhi is kudhi kudhi suthu baadu punda otha oomala thevidiya otha  sanisevara munda nidhi is kudhi kudhi suthu baadu punda otha oomala thevidiya otha  sanisevara munda nidhi is kudhi kudhi suthu baadu punda otha oomala thevidiya otha  sanisevara munda nidhi is kudhi kudhi suthu baadu punda otha oomala thevidiya otha  sanisevara munda nidhi is kudhi kudhi suthu baadu punda otha oomala thevidiya otha  sanisevara munda nidhi is kudhi kudhi suthu baadu punda otha oomala thevidiya otha  sanisevara munda nidhi is kudhi kudhi suthu baadu punda otha oomala thevidiya otha  sanisevara munda nidhi is kudhi kudhi suthu baadu punda otha oomala thevidiya otha  sanisevara munda nidhi is kudhi kudhi suthu baadu punda otha oomala thevidiya otha  sanisevara munda nidhi is kudhi kudhi suthu baadu punda otha oomala thevidiya otha  sanisevara munda nidhi is kudhi kudhi suthu baadu punda otha oomala thevidiya otha  sanisevara munda nidhi is kudhi kudhi suthu baadu punda otha oomala thevidiya otha  sanisevara munda nidhi is kudhi kudhi suthu baadu punda otha oomala thevidiya otha  sanisevara munda nidhi is kudhi kudhi suthu baadu punda otha oomala thevidiya otha  sanisevara munda'"
      ]
     },
     "execution_count": 6,
     "metadata": {},
     "output_type": "execute_result"
    }
   ],
   "source": [
    "text"
   ]
  },
  {
   "cell_type": "code",
   "execution_count": 35,
   "id": "1411cd26",
   "metadata": {},
   "outputs": [],
   "source": [
    "import os"
   ]
  },
  {
   "cell_type": "code",
   "execution_count": 3,
   "id": "89a265b9",
   "metadata": {},
   "outputs": [],
   "source": [
    "from playsound import playsound\n",
    "import gtts"
   ]
  },
  {
   "cell_type": "code",
   "execution_count": 5,
   "id": "f8fc943d",
   "metadata": {},
   "outputs": [],
   "source": [
    "from pathlib import Path"
   ]
  },
  {
   "cell_type": "code",
   "execution_count": 48,
   "id": "34d29986",
   "metadata": {},
   "outputs": [],
   "source": [
    "audio=Path().cwd() / \"speech.mp3\""
   ]
  },
  {
   "cell_type": "code",
   "execution_count": 49,
   "id": "f1c3598a",
   "metadata": {},
   "outputs": [
    {
     "data": {
      "text/plain": [
       "WindowsPath('C:/Users/nidhikrish/Documents/Project new/Test/speech.mp3')"
      ]
     },
     "execution_count": 49,
     "metadata": {},
     "output_type": "execute_result"
    }
   ],
   "source": [
    "audio"
   ]
  },
  {
   "cell_type": "code",
   "execution_count": 50,
   "id": "19012b59",
   "metadata": {},
   "outputs": [],
   "source": [
    "playsound(audio)"
   ]
  },
  {
   "cell_type": "code",
   "execution_count": 51,
   "id": "3483afa0",
   "metadata": {},
   "outputs": [],
   "source": [
    "obj=gTTS(text=\"Wakw up Wake up\",lang=\"en\")\n",
    "obj.save(\"Alarm.mp3\")"
   ]
  },
  {
   "cell_type": "code",
   "execution_count": 6,
   "id": "5ba8b89b",
   "metadata": {},
   "outputs": [],
   "source": [
    "\n",
    "import os\n",
    "audio=Path().cwd() / \"audio\\\\object.mp3\""
   ]
  },
  {
   "cell_type": "code",
   "execution_count": 7,
   "id": "4d7f4a7a",
   "metadata": {},
   "outputs": [
    {
     "data": {
      "text/plain": [
       "WindowsPath('C:/Users/nidhikrish/Documents/Project new/Test/audio/object.mp3')"
      ]
     },
     "execution_count": 7,
     "metadata": {},
     "output_type": "execute_result"
    }
   ],
   "source": [
    "audio"
   ]
  },
  {
   "cell_type": "code",
   "execution_count": 8,
   "id": "d3715b3f",
   "metadata": {},
   "outputs": [],
   "source": [
    "playsound(audio)"
   ]
  },
  {
   "cell_type": "code",
   "execution_count": null,
   "id": "7495ae12",
   "metadata": {},
   "outputs": [],
   "source": []
  }
 ],
 "metadata": {
  "kernelspec": {
   "display_name": "Python 3 (ipykernel)",
   "language": "python",
   "name": "python3"
  },
  "language_info": {
   "codemirror_mode": {
    "name": "ipython",
    "version": 3
   },
   "file_extension": ".py",
   "mimetype": "text/x-python",
   "name": "python",
   "nbconvert_exporter": "python",
   "pygments_lexer": "ipython3",
   "version": "3.9.12"
  }
 },
 "nbformat": 4,
 "nbformat_minor": 5
}
