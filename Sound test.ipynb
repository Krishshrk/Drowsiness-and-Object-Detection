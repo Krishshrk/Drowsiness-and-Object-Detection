{
 "cells": [
  {
   "cell_type": "code",
   "execution_count": 17,
   "id": "0acbc067",
   "metadata": {},
   "outputs": [],
   "source": [
    "from pydub import AudioSegment"
   ]
  },
  {
   "cell_type": "code",
   "execution_count": 12,
   "id": "367e9a51",
   "metadata": {},
   "outputs": [
    {
     "name": "stdout",
     "output_type": "stream",
     "text": [
      "C:\\Users\\nidhikrish\\Documents\\Project new\\Test\\object.mp3\n"
     ]
    }
   ],
   "source": [
    "import os\n",
    "import sys\n",
    "mypath=os.path.abspath(\"object.mp3\")\n",
    "mydir=os.path.dirname(mypath)\n",
    "start=os.path.join(mydir,\"object.mp3\")\n",
    "print(start)"
   ]
  },
  {
   "cell_type": "code",
   "execution_count": 2,
   "id": "22ca6b03",
   "metadata": {},
   "outputs": [],
   "source": [
    "import pydub"
   ]
  },
  {
   "cell_type": "code",
   "execution_count": 3,
   "id": "d0433c69",
   "metadata": {},
   "outputs": [],
   "source": [
    "#AudioSegment.ffmpeg = \"/absolute/path/to/ffmpeg\"\n",
    "sound=AudioSegment.from_mp3(\"object.mp3\")"
   ]
  },
  {
   "cell_type": "code",
   "execution_count": 4,
   "id": "bba1a53a",
   "metadata": {},
   "outputs": [
    {
     "data": {
      "text/plain": [
       "1"
      ]
     },
     "execution_count": 4,
     "metadata": {},
     "output_type": "execute_result"
    }
   ],
   "source": [
    "sound.channels"
   ]
  },
  {
   "cell_type": "code",
   "execution_count": 18,
   "id": "eaf0c6dc",
   "metadata": {},
   "outputs": [
    {
     "data": {
      "text/plain": [
       "2736"
      ]
     },
     "execution_count": 18,
     "metadata": {},
     "output_type": "execute_result"
    }
   ],
   "source": [
    "len(sound)"
   ]
  },
  {
   "cell_type": "code",
   "execution_count": 19,
   "id": "4fc5e674",
   "metadata": {},
   "outputs": [
    {
     "data": {
      "text/plain": [
       "2720"
      ]
     },
     "execution_count": 19,
     "metadata": {},
     "output_type": "execute_result"
    }
   ],
   "source": [
    "2736-(2736%20)"
   ]
  },
  {
   "cell_type": "code",
   "execution_count": 5,
   "id": "7a4cde20",
   "metadata": {},
   "outputs": [
    {
     "data": {
      "text/plain": [
       "2"
      ]
     },
     "execution_count": 5,
     "metadata": {},
     "output_type": "execute_result"
    }
   ],
   "source": [
    "sound.sample_width"
   ]
  },
  {
   "cell_type": "code",
   "execution_count": 21,
   "id": "1adee00d",
   "metadata": {},
   "outputs": [],
   "source": [
    "audio_segment=[sound[i:i+20] for i in range(0,2720,20)]"
   ]
  },
  {
   "cell_type": "code",
   "execution_count": 25,
   "id": "fdfd7755",
   "metadata": {},
   "outputs": [
    {
     "data": {
      "text/plain": [
       "136"
      ]
     },
     "execution_count": 25,
     "metadata": {},
     "output_type": "execute_result"
    }
   ],
   "source": [
    "len(audio_segment)"
   ]
  },
  {
   "cell_type": "code",
   "execution_count": 24,
   "id": "548780e7",
   "metadata": {},
   "outputs": [
    {
     "data": {
      "text/html": [
       "\n",
       "                    <audio controls>\n",
       "                        <source src=\"data:audio/mpeg;base64,SUQzBAAAAAAAI1RTU0UAAAAPAAADTGF2ZjU5LjM0LjEwMgAAAAAAAAAAAAAA//OEwAAAAAAAAAAAAEluZm8AAAAPAAAAAwAAAeAAmZmZmZmZmZmZmZmZmZmZmZmZmZmZmZmZmZmZmZmZmZmZzMzMzMzMzMzMzMzMzMzMzMzMzMzMzMzMzMzMzMzMzMzM////////////////////////////////////////////AAAAAExhdmM1OS41NQAAAAAAAAAAAAAAACQCoAAAAAAAAAHgWkK1wgAAAAAAAAAAAAAAAAAAAAAAAAAAAAAA//NExAAQYSn0ABhE0CcW8J4SVgCgbwRAgikoFxjG5oZAByGyAsl84s9ZGI3OLfoygnxpAvWFz4fBBy3g+OcTC1HU6GK3/n4YPgh9Yfn5xX4mHcMIMIhcCF1CcgXIkCZD//NExBEP8DIsABjEILQwHg+Qb0YgBcpdlCTcoQPiwRfW+KCcoEQ8D4gWqj40CAwNfKAMccP94A/jpxJRqrsYUSCEwUxKAjwNCURCUkRJEdZ0Oh0NEfyoiEoCPMxEIuxk//NExCQQ+DYYABjCQGD9bjwiKjAqHRKWHus9QFAICHnREWHnTzer+ssMPCUsTEFNRTMuMTAwqqqqqqqqqqqqqqqqqqqqqqqqqqqqqqqqqqqqqqqqqqqqqqqqqqqqqqqq\" type=\"audio/mpeg\"/>\n",
       "                        Your browser does not support the audio element.\n",
       "                    </audio>\n",
       "                  "
      ],
      "text/plain": [
       "<pydub.audio_segment.AudioSegment at 0x1a1ee5435e0>"
      ]
     },
     "execution_count": 24,
     "metadata": {},
     "output_type": "execute_result"
    }
   ],
   "source": [
    "audio_segment[1]"
   ]
  },
  {
   "cell_type": "code",
   "execution_count": 6,
   "id": "d890cbad",
   "metadata": {},
   "outputs": [
    {
     "data": {
      "text/plain": [
       "2"
      ]
     },
     "execution_count": 6,
     "metadata": {},
     "output_type": "execute_result"
    }
   ],
   "source": [
    "sound.frame_width"
   ]
  },
  {
   "cell_type": "code",
   "execution_count": 11,
   "id": "5d31a279",
   "metadata": {},
   "outputs": [],
   "source": [
    "sound_1=sound[::1000]"
   ]
  },
  {
   "cell_type": "code",
   "execution_count": 15,
   "id": "6f5b6d70",
   "metadata": {},
   "outputs": [
    {
     "data": {
      "text/plain": [
       "2.736"
      ]
     },
     "execution_count": 15,
     "metadata": {},
     "output_type": "execute_result"
    }
   ],
   "source": [
    "sound.duration_seconds"
   ]
  },
  {
   "cell_type": "code",
   "execution_count": 16,
   "id": "1d10bc26",
   "metadata": {},
   "outputs": [
    {
     "data": {
      "text/html": [
       "\n",
       "                    <audio controls>\n",
       "                        <source src=\"data:audio/mpeg;base64,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\" type=\"audio/mpeg\"/>\n",
       "                        Your browser does not support the audio element.\n",
       "                    </audio>\n",
       "                  "
      ],
      "text/plain": [
       "<pydub.audio_segment.AudioSegment at 0x1a1edc821c0>"
      ]
     },
     "execution_count": 16,
     "metadata": {},
     "output_type": "execute_result"
    }
   ],
   "source": [
    "sound"
   ]
  },
  {
   "cell_type": "code",
   "execution_count": 8,
   "id": "e1137f9d",
   "metadata": {},
   "outputs": [],
   "source": [
    "for i,chunk in enumerate(sound[::1000]):\n",
    "    with open(\"object_sound-%s.mp3\" % i,\"wb\") as f:\n",
    "        chunk.export(f,format=\"mp3\")"
   ]
  },
  {
   "cell_type": "code",
   "execution_count": 9,
   "id": "72c692be",
   "metadata": {},
   "outputs": [],
   "source": [
    "play=AudioSegment.empty()"
   ]
  },
  {
   "cell_type": "code",
   "execution_count": 11,
   "id": "021f242b",
   "metadata": {},
   "outputs": [],
   "source": [
    "obj1=AudioSegment.from_mp3(\"object_sound-0.mp3\")\n",
    "obj2=AudioSegment.from_mp3(\"object_sound-1.mp3\")\n",
    "obj3=AudioSegment.from_mp3(\"object_sound-2.mp3\")\n",
    "play=obj1+obj2+obj3"
   ]
  },
  {
   "cell_type": "code",
   "execution_count": 13,
   "id": "a9dfbddb",
   "metadata": {},
   "outputs": [],
   "source": [
    "file_handle=play.export(\"output-1.mp3\",format=\"mp3\")"
   ]
  },
  {
   "cell_type": "code",
   "execution_count": 28,
   "id": "d695b1b2",
   "metadata": {},
   "outputs": [
    {
     "data": {
      "text/plain": [
       "'audio\\\\object.mp3'"
      ]
     },
     "execution_count": 28,
     "metadata": {},
     "output_type": "execute_result"
    }
   ],
   "source": [
    "import os\n",
    "os.path.join(\"audio\",\"object.mp3\")"
   ]
  }
 ],
 "metadata": {
  "kernelspec": {
   "display_name": "Python 3 (ipykernel)",
   "language": "python",
   "name": "python3"
  },
  "language_info": {
   "codemirror_mode": {
    "name": "ipython",
    "version": 3
   },
   "file_extension": ".py",
   "mimetype": "text/x-python",
   "name": "python",
   "nbconvert_exporter": "python",
   "pygments_lexer": "ipython3",
   "version": "3.9.12"
  }
 },
 "nbformat": 4,
 "nbformat_minor": 5
}
